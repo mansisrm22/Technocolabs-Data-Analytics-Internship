{
 "cells": [
  {
   "cell_type": "markdown",
   "metadata": {},
   "source": [
    "### Spotify Song Recommendation System"
   ]
  },
  {
   "cell_type": "code",
   "execution_count": 1,
   "metadata": {},
   "outputs": [],
   "source": [
    "import pandas as pd\n",
    "import numpy as np\n",
    "import matplotlib.pyplot as plt"
   ]
  },
  {
   "cell_type": "code",
   "execution_count": 2,
   "metadata": {},
   "outputs": [
    {
     "data": {
      "text/html": [
       "<div>\n",
       "<style scoped>\n",
       "    .dataframe tbody tr th:only-of-type {\n",
       "        vertical-align: middle;\n",
       "    }\n",
       "\n",
       "    .dataframe tbody tr th {\n",
       "        vertical-align: top;\n",
       "    }\n",
       "\n",
       "    .dataframe thead th {\n",
       "        text-align: right;\n",
       "    }\n",
       "</style>\n",
       "<table border=\"1\" class=\"dataframe\">\n",
       "  <thead>\n",
       "    <tr style=\"text-align: right;\">\n",
       "      <th></th>\n",
       "      <th>artists</th>\n",
       "      <th>popularity</th>\n",
       "      <th>count</th>\n",
       "    </tr>\n",
       "  </thead>\n",
       "  <tbody>\n",
       "    <tr>\n",
       "      <th>0</th>\n",
       "      <td>\"Cats\" 1981 Original London Cast</td>\n",
       "      <td>38.000000</td>\n",
       "      <td>12</td>\n",
       "    </tr>\n",
       "    <tr>\n",
       "      <th>1</th>\n",
       "      <td>\"Cats\" 1983 Broadway Cast</td>\n",
       "      <td>33.076923</td>\n",
       "      <td>26</td>\n",
       "    </tr>\n",
       "    <tr>\n",
       "      <th>2</th>\n",
       "      <td>\"Fiddler On The Roof” Motion Picture Chorus</td>\n",
       "      <td>34.285714</td>\n",
       "      <td>7</td>\n",
       "    </tr>\n",
       "    <tr>\n",
       "      <th>3</th>\n",
       "      <td>\"Fiddler On The Roof” Motion Picture Orchestra</td>\n",
       "      <td>34.444444</td>\n",
       "      <td>27</td>\n",
       "    </tr>\n",
       "    <tr>\n",
       "      <th>4</th>\n",
       "      <td>\"Joseph And The Amazing Technicolor Dreamcoat\"...</td>\n",
       "      <td>42.555556</td>\n",
       "      <td>9</td>\n",
       "    </tr>\n",
       "    <tr>\n",
       "      <th>...</th>\n",
       "      <td>...</td>\n",
       "      <td>...</td>\n",
       "      <td>...</td>\n",
       "    </tr>\n",
       "    <tr>\n",
       "      <th>27616</th>\n",
       "      <td>鳳飛飛</td>\n",
       "      <td>35.000000</td>\n",
       "      <td>2</td>\n",
       "    </tr>\n",
       "    <tr>\n",
       "      <th>27617</th>\n",
       "      <td>黃品源</td>\n",
       "      <td>47.000000</td>\n",
       "      <td>2</td>\n",
       "    </tr>\n",
       "    <tr>\n",
       "      <th>27618</th>\n",
       "      <td>黃國隆</td>\n",
       "      <td>20.000000</td>\n",
       "      <td>11</td>\n",
       "    </tr>\n",
       "    <tr>\n",
       "      <th>27619</th>\n",
       "      <td>黃蜀娟</td>\n",
       "      <td>23.000000</td>\n",
       "      <td>42</td>\n",
       "    </tr>\n",
       "    <tr>\n",
       "      <th>27620</th>\n",
       "      <td>黑豹</td>\n",
       "      <td>34.000000</td>\n",
       "      <td>2</td>\n",
       "    </tr>\n",
       "  </tbody>\n",
       "</table>\n",
       "<p>27621 rows × 3 columns</p>\n",
       "</div>"
      ],
      "text/plain": [
       "                                                 artists  popularity  count\n",
       "0                       \"Cats\" 1981 Original London Cast   38.000000     12\n",
       "1                              \"Cats\" 1983 Broadway Cast   33.076923     26\n",
       "2            \"Fiddler On The Roof” Motion Picture Chorus   34.285714      7\n",
       "3         \"Fiddler On The Roof” Motion Picture Orchestra   34.444444     27\n",
       "4      \"Joseph And The Amazing Technicolor Dreamcoat\"...   42.555556      9\n",
       "...                                                  ...         ...    ...\n",
       "27616                                                鳳飛飛   35.000000      2\n",
       "27617                                                黃品源   47.000000      2\n",
       "27618                                                黃國隆   20.000000     11\n",
       "27619                                                黃蜀娟   23.000000     42\n",
       "27620                                                 黑豹   34.000000      2\n",
       "\n",
       "[27621 rows x 3 columns]"
      ]
     },
     "execution_count": 2,
     "metadata": {},
     "output_type": "execute_result"
    }
   ],
   "source": [
    "col=['artists','count','popularity'] # considering only these columns\n",
    "artist=pd.read_csv(\"data_by_artist.csv\",usecols=col)\n",
    "artist"
   ]
  },
  {
   "cell_type": "code",
   "execution_count": 3,
   "metadata": {},
   "outputs": [
    {
     "data": {
      "text/html": [
       "<div>\n",
       "<style scoped>\n",
       "    .dataframe tbody tr th:only-of-type {\n",
       "        vertical-align: middle;\n",
       "    }\n",
       "\n",
       "    .dataframe tbody tr th {\n",
       "        vertical-align: top;\n",
       "    }\n",
       "\n",
       "    .dataframe thead th {\n",
       "        text-align: right;\n",
       "    }\n",
       "</style>\n",
       "<table border=\"1\" class=\"dataframe\">\n",
       "  <thead>\n",
       "    <tr style=\"text-align: right;\">\n",
       "      <th></th>\n",
       "      <th>artists</th>\n",
       "      <th>genres</th>\n",
       "    </tr>\n",
       "  </thead>\n",
       "  <tbody>\n",
       "    <tr>\n",
       "      <th>0</th>\n",
       "      <td>\"Cats\" 1981 Original London Cast</td>\n",
       "      <td>['show tunes']</td>\n",
       "    </tr>\n",
       "    <tr>\n",
       "      <th>1</th>\n",
       "      <td>\"Cats\" 1983 Broadway Cast</td>\n",
       "      <td>[]</td>\n",
       "    </tr>\n",
       "    <tr>\n",
       "      <th>2</th>\n",
       "      <td>\"Fiddler On The Roof” Motion Picture Chorus</td>\n",
       "      <td>[]</td>\n",
       "    </tr>\n",
       "    <tr>\n",
       "      <th>3</th>\n",
       "      <td>\"Fiddler On The Roof” Motion Picture Orchestra</td>\n",
       "      <td>[]</td>\n",
       "    </tr>\n",
       "    <tr>\n",
       "      <th>4</th>\n",
       "      <td>\"Joseph And The Amazing Technicolor Dreamcoat\"...</td>\n",
       "      <td>[]</td>\n",
       "    </tr>\n",
       "    <tr>\n",
       "      <th>...</th>\n",
       "      <td>...</td>\n",
       "      <td>...</td>\n",
       "    </tr>\n",
       "    <tr>\n",
       "      <th>27616</th>\n",
       "      <td>鳳飛飛</td>\n",
       "      <td>['c-pop', 'classic mandopop', 'vintage chinese...</td>\n",
       "    </tr>\n",
       "    <tr>\n",
       "      <th>27617</th>\n",
       "      <td>黃品源</td>\n",
       "      <td>['c-pop', 'classic cantopop', 'classic mandopop']</td>\n",
       "    </tr>\n",
       "    <tr>\n",
       "      <th>27618</th>\n",
       "      <td>黃國隆</td>\n",
       "      <td>[]</td>\n",
       "    </tr>\n",
       "    <tr>\n",
       "      <th>27619</th>\n",
       "      <td>黃蜀娟</td>\n",
       "      <td>[]</td>\n",
       "    </tr>\n",
       "    <tr>\n",
       "      <th>27620</th>\n",
       "      <td>黑豹</td>\n",
       "      <td>['chinese indie', 'chinese indie rock']</td>\n",
       "    </tr>\n",
       "  </tbody>\n",
       "</table>\n",
       "<p>27621 rows × 2 columns</p>\n",
       "</div>"
      ],
      "text/plain": [
       "                                                 artists  \\\n",
       "0                       \"Cats\" 1981 Original London Cast   \n",
       "1                              \"Cats\" 1983 Broadway Cast   \n",
       "2            \"Fiddler On The Roof” Motion Picture Chorus   \n",
       "3         \"Fiddler On The Roof” Motion Picture Orchestra   \n",
       "4      \"Joseph And The Amazing Technicolor Dreamcoat\"...   \n",
       "...                                                  ...   \n",
       "27616                                                鳳飛飛   \n",
       "27617                                                黃品源   \n",
       "27618                                                黃國隆   \n",
       "27619                                                黃蜀娟   \n",
       "27620                                                 黑豹   \n",
       "\n",
       "                                                  genres  \n",
       "0                                         ['show tunes']  \n",
       "1                                                     []  \n",
       "2                                                     []  \n",
       "3                                                     []  \n",
       "4                                                     []  \n",
       "...                                                  ...  \n",
       "27616  ['c-pop', 'classic mandopop', 'vintage chinese...  \n",
       "27617  ['c-pop', 'classic cantopop', 'classic mandopop']  \n",
       "27618                                                 []  \n",
       "27619                                                 []  \n",
       "27620            ['chinese indie', 'chinese indie rock']  \n",
       "\n",
       "[27621 rows x 2 columns]"
      ]
     },
     "execution_count": 3,
     "metadata": {},
     "output_type": "execute_result"
    }
   ],
   "source": [
    "genre=pd.read_csv('data_w_genres.csv',usecols=['genres','artists'])\n",
    "genre"
   ]
  },
  {
   "cell_type": "code",
   "execution_count": 4,
   "metadata": {},
   "outputs": [
    {
     "data": {
      "text/html": [
       "<div>\n",
       "<style scoped>\n",
       "    .dataframe tbody tr th:only-of-type {\n",
       "        vertical-align: middle;\n",
       "    }\n",
       "\n",
       "    .dataframe tbody tr th {\n",
       "        vertical-align: top;\n",
       "    }\n",
       "\n",
       "    .dataframe thead th {\n",
       "        text-align: right;\n",
       "    }\n",
       "</style>\n",
       "<table border=\"1\" class=\"dataframe\">\n",
       "  <thead>\n",
       "    <tr style=\"text-align: right;\">\n",
       "      <th></th>\n",
       "      <th>artists</th>\n",
       "      <th>popularity</th>\n",
       "      <th>count</th>\n",
       "      <th>genres</th>\n",
       "    </tr>\n",
       "  </thead>\n",
       "  <tbody>\n",
       "    <tr>\n",
       "      <th>0</th>\n",
       "      <td>\"Cats\" 1981 Original London Cast</td>\n",
       "      <td>38.000000</td>\n",
       "      <td>12</td>\n",
       "      <td>['show tunes']</td>\n",
       "    </tr>\n",
       "    <tr>\n",
       "      <th>1</th>\n",
       "      <td>\"Cats\" 1983 Broadway Cast</td>\n",
       "      <td>33.076923</td>\n",
       "      <td>26</td>\n",
       "      <td>[]</td>\n",
       "    </tr>\n",
       "    <tr>\n",
       "      <th>2</th>\n",
       "      <td>\"Fiddler On The Roof” Motion Picture Chorus</td>\n",
       "      <td>34.285714</td>\n",
       "      <td>7</td>\n",
       "      <td>[]</td>\n",
       "    </tr>\n",
       "    <tr>\n",
       "      <th>3</th>\n",
       "      <td>\"Fiddler On The Roof” Motion Picture Orchestra</td>\n",
       "      <td>34.444444</td>\n",
       "      <td>27</td>\n",
       "      <td>[]</td>\n",
       "    </tr>\n",
       "    <tr>\n",
       "      <th>4</th>\n",
       "      <td>\"Joseph And The Amazing Technicolor Dreamcoat\"...</td>\n",
       "      <td>42.555556</td>\n",
       "      <td>9</td>\n",
       "      <td>[]</td>\n",
       "    </tr>\n",
       "  </tbody>\n",
       "</table>\n",
       "</div>"
      ],
      "text/plain": [
       "                                             artists  popularity  count  \\\n",
       "0                   \"Cats\" 1981 Original London Cast   38.000000     12   \n",
       "1                          \"Cats\" 1983 Broadway Cast   33.076923     26   \n",
       "2        \"Fiddler On The Roof” Motion Picture Chorus   34.285714      7   \n",
       "3     \"Fiddler On The Roof” Motion Picture Orchestra   34.444444     27   \n",
       "4  \"Joseph And The Amazing Technicolor Dreamcoat\"...   42.555556      9   \n",
       "\n",
       "           genres  \n",
       "0  ['show tunes']  \n",
       "1              []  \n",
       "2              []  \n",
       "3              []  \n",
       "4              []  "
      ]
     },
     "execution_count": 4,
     "metadata": {},
     "output_type": "execute_result"
    }
   ],
   "source": [
    "df=pd.merge(artist,genre,on='artists') #merging both the datasets by artists\n",
    "df.head()"
   ]
  },
  {
   "cell_type": "code",
   "execution_count": 5,
   "metadata": {},
   "outputs": [
    {
     "data": {
      "text/plain": [
       "<matplotlib.axes._subplots.AxesSubplot at 0x179e6743bb0>"
      ]
     },
     "execution_count": 5,
     "metadata": {},
     "output_type": "execute_result"
    },
    {
     "data": {
      "image/png": "[encoded data removed]",
      "text/plain": [
       "<Figure size 432x288 with 1 Axes>"
      ]
     },
     "metadata": {
      "needs_background": "light"
     },
     "output_type": "display_data"
    }
   ],
   "source": [
    "df['popularity'].hist(bins=30) "
   ]
  },
  {
   "cell_type": "markdown",
   "metadata": {},
   "source": [
    "#### popularity ratings are mostly in the range of 30-60"
   ]
  },
  {
   "cell_type": "code",
   "execution_count": 6,
   "metadata": {},
   "outputs": [],
   "source": [
    "#lets move on with TfidfVectorizer\n",
    "\n",
    "from sklearn.feature_extraction.text import TfidfVectorizer\n",
    "tfv=TfidfVectorizer(min_df=3,max_features=None,strip_accents='unicode',\n",
    "                    analyzer='word',token_pattern=r'\\w{1,}',ngram_range=(1,3),stop_words='english')"
   ]
  },
  {
   "cell_type": "code",
   "execution_count": 7,
   "metadata": {},
   "outputs": [],
   "source": [
    "df['genres']=df['genres'].fillna('')"
   ]
  },
  {
   "cell_type": "code",
   "execution_count": 8,
   "metadata": {},
   "outputs": [],
   "source": [
    "tfv_matrix=tfv.fit_transform(df['genres'])"
   ]
  },
  {
   "cell_type": "code",
   "execution_count": 9,
   "metadata": {},
   "outputs": [
    {
     "data": {
      "text/plain": [
       "<27621x10118 sparse matrix of type '<class 'numpy.float64'>'\n",
       "\twith 256855 stored elements in Compressed Sparse Row format>"
      ]
     },
     "execution_count": 9,
     "metadata": {},
     "output_type": "execute_result"
    }
   ],
   "source": [
    "tfv_matrix"
   ]
  },
  {
   "cell_type": "code",
   "execution_count": 10,
   "metadata": {},
   "outputs": [
    {
     "data": {
      "text/plain": [
       "(27621, 10118)"
      ]
     },
     "execution_count": 10,
     "metadata": {},
     "output_type": "execute_result"
    }
   ],
   "source": [
    "tfv_matrix.shape"
   ]
  },
  {
   "cell_type": "code",
   "execution_count": 11,
   "metadata": {},
   "outputs": [],
   "source": [
    "# instead of cosine similarity take sigmoid kernel as it is faster\n",
    "from sklearn.metrics.pairwise import sigmoid_kernel\n",
    "sig=sigmoid_kernel(tfv_matrix,tfv_matrix)"
   ]
  },
  {
   "cell_type": "code",
   "execution_count": 12,
   "metadata": {},
   "outputs": [
    {
     "data": {
      "text/plain": [
       "array([0.76163566, 0.76159416, 0.76159416, ..., 0.76159416, 0.76159416,\n",
       "       0.76159416])"
      ]
     },
     "execution_count": 12,
     "metadata": {},
     "output_type": "execute_result"
    }
   ],
   "source": [
    "sig[0]"
   ]
  },
  {
   "cell_type": "code",
   "execution_count": 13,
   "metadata": {},
   "outputs": [],
   "source": [
    "indices=pd.Series(df.index,index=df['artists']).drop_duplicates()"
   ]
  },
  {
   "cell_type": "code",
   "execution_count": 14,
   "metadata": {},
   "outputs": [
    {
     "data": {
      "text/plain": [
       "artists\n",
       "\"Cats\" 1981 Original London Cast                                       0\n",
       "\"Cats\" 1983 Broadway Cast                                              1\n",
       "\"Fiddler On The Roof” Motion Picture Chorus                            2\n",
       "\"Fiddler On The Roof” Motion Picture Orchestra                         3\n",
       "\"Joseph And The Amazing Technicolor Dreamcoat\" 1991 London Cast        4\n",
       "                                                                   ...  \n",
       "鳳飛飛                                                                27616\n",
       "黃品源                                                                27617\n",
       "黃國隆                                                                27618\n",
       "黃蜀娟                                                                27619\n",
       "黑豹                                                                 27620\n",
       "Length: 27621, dtype: int64"
      ]
     },
     "execution_count": 14,
     "metadata": {},
     "output_type": "execute_result"
    }
   ],
   "source": [
    "indices"
   ]
  },
  {
   "cell_type": "code",
   "execution_count": 15,
   "metadata": {},
   "outputs": [],
   "source": [
    "# recommending top 10 artists\n",
    "\n",
    "def rec(artist,sig=sig):\n",
    "  idx=indices[artist]\n",
    "  sig_scores=list(enumerate(sig[idx]))\n",
    "  sig_scores=sorted(sig_scores,key=lambda x: x[1],reverse=True)\n",
    "  sig_scores=sig_scores[1:11]\n",
    "  artist_indices=[i[0]for i in sig_scores]\n",
    "  return df['artists'].iloc[artist_indices]"
   ]
  },
  {
   "cell_type": "code",
   "execution_count": 16,
   "metadata": {},
   "outputs": [
    {
     "data": {
      "text/plain": [
       "1                             \"Cats\" 1983 Broadway Cast\n",
       "2           \"Fiddler On The Roof” Motion Picture Chorus\n",
       "3        \"Fiddler On The Roof” Motion Picture Orchestra\n",
       "4     \"Joseph And The Amazing Technicolor Dreamcoat\"...\n",
       "5     \"Joseph And The Amazing Technicolor Dreamcoat\"...\n",
       "6                                \"Mama\" Helen Teagarden\n",
       "7                                        \"Mista Dj Paul\n",
       "8                               \"Test for Victor Young\"\n",
       "9                                   \"Weird Al\" Yankovic\n",
       "10                                               $IMEON\n",
       "Name: artists, dtype: object"
      ]
     },
     "execution_count": 16,
     "metadata": {},
     "output_type": "execute_result"
    }
   ],
   "source": [
    "# let's Test!\n",
    "rec('Panos Samis')"
   ]
  }
 ],
 "metadata": {
  "kernelspec": {
   "display_name": "Python 3",
   "language": "python",
   "name": "python3"
  },
  "language_info": {
   "codemirror_mode": {
    "name": "ipython",
    "version": 3
   },
   "file_extension": ".py",
   "mimetype": "text/x-python",
   "name": "python",
   "nbconvert_exporter": "python",
   "pygments_lexer": "ipython3",
   "version": "3.8.3"
  }
 },
 "nbformat": 4,
 "nbformat_minor": 4
}
